{
 "cells": [
  {
   "cell_type": "code",
   "execution_count": 1,
   "id": "6f44ffee-f3a7-4195-80f7-3f7c920ef4e3",
   "metadata": {},
   "outputs": [],
   "source": [
    "#!pip install scipy"
   ]
  },
  {
   "cell_type": "code",
   "execution_count": 5,
   "id": "67fa8b88-5c3e-4bb1-a2c6-edfd9435e415",
   "metadata": {},
   "outputs": [
    {
     "name": "stdout",
     "output_type": "stream",
     "text": [
      "Defaulting to user installation because normal site-packages is not writeable\n",
      "Requirement already satisfied: scipy in c:\\programdata\\anaconda3\\lib\\site-packages (1.13.1)\n",
      "Requirement already satisfied: numpy<2.3,>=1.22.4 in c:\\programdata\\anaconda3\\lib\\site-packages (from scipy) (1.26.4)\n"
     ]
    }
   ],
   "source": [
    "!pip install scipy"
   ]
  },
  {
   "cell_type": "code",
   "execution_count": 6,
   "id": "fa666937-ab1a-41d1-b7ed-182766a4f636",
   "metadata": {},
   "outputs": [],
   "source": [
    "from scipy import linalg\n",
    "import numpy as np"
   ]
  },
  {
   "cell_type": "code",
   "execution_count": 16,
   "id": "17293ac0-20f4-4d8f-a4f8-b6eacc7a4852",
   "metadata": {},
   "outputs": [
    {
     "name": "stdout",
     "output_type": "stream",
     "text": [
      "Kết quả:  [2.27272727 0.09090909]\n"
     ]
    }
   ],
   "source": [
    "#Định nghĩa hệ phương trình tuyến tính\n",
    "A = np.array([[2,5], [3,2]])\n",
    "b = np.array([5,7])\n",
    "\n",
    "#Giải hệ phương trình tuyến tính\n",
    "x = linalg.solve(A, b)\n",
    "print(\"Kết quả: \", x)"
   ]
  },
  {
   "cell_type": "code",
   "execution_count": 15,
   "id": "e9e54408-7ef3-4884-b956-9643d70bfd38",
   "metadata": {},
   "outputs": [
    {
     "name": "stdout",
     "output_type": "stream",
     "text": [
      "Tích phân f(x) từ 0 đến 1:  (-25.833333333333332, 2.8680761469483207e-13)\n"
     ]
    }
   ],
   "source": [
    "#Tính tích phân của một hàm số\n",
    "from scipy import integrate\n",
    "#Định nghĩa f(x)=x^2\n",
    "def my_function(x):\n",
    "    return x**2+x+1;\n",
    "    #Tính tích phân của f(x) từ 0 đến 1\n",
    "integral = integrate.quad(my_function, 5, 4);\n",
    "print(\"Tích phân f(x) từ 0 đến 1: \", integral)"
   ]
  },
  {
   "cell_type": "code",
   "execution_count": 19,
   "id": "5e7ce3b2-3ad8-4caa-9042-43a7deddf0cd",
   "metadata": {},
   "outputs": [
    {
     "name": "stdout",
     "output_type": "stream",
     "text": [
      "Giá trị riêng: [ 5.87298335+0.j -1.87298335+0.j]\n",
      "Vecto riêng: [[ 0.79056942 -0.79056942]\n",
      " [ 0.61237244  0.61237244]]\n"
     ]
    }
   ],
   "source": [
    "from scipy import linalg\n",
    "import numpy as np\n",
    "\n",
    "#Tính giá trị riêng và vector riêng của một ma trận\n",
    "A = np.array([[2,5], [3,2]])\n",
    "\n",
    "#Tính giá trị riêng và vector\n",
    "evals, evecs = linalg.eig(A)\n",
    "\n",
    "print(\"Giá trị riêng:\", evals)\n",
    "print(\"Vecto riêng:\", evecs)"
   ]
  },
  {
   "cell_type": "code",
   "execution_count": null,
   "id": "dc2ad649-fd51-4558-b43f-eb869ccac0bd",
   "metadata": {},
   "outputs": [],
   "source": []
  }
 ],
 "metadata": {
  "kernelspec": {
   "display_name": "Python 3 (ipykernel)",
   "language": "python",
   "name": "python3"
  },
  "language_info": {
   "codemirror_mode": {
    "name": "ipython",
    "version": 3
   },
   "file_extension": ".py",
   "mimetype": "text/x-python",
   "name": "python",
   "nbconvert_exporter": "python",
   "pygments_lexer": "ipython3",
   "version": "3.12.4"
  }
 },
 "nbformat": 4,
 "nbformat_minor": 5
}
