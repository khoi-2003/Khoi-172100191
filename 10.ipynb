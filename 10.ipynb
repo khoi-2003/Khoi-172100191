{
 "cells": [
  {
   "cell_type": "code",
   "execution_count": 2,
   "id": "2f2fd018-fdad-4cce-bf80-13c9dd7173ae",
   "metadata": {},
   "outputs": [],
   "source": [
    "from PIL import Image\n",
    "import matplotlib.pyplot as plt"
   ]
  },
  {
   "cell_type": "code",
   "execution_count": 3,
   "id": "588b8604-8864-487c-8d4d-64a3803105d0",
   "metadata": {},
   "outputs": [],
   "source": [
    "# Đường dẫn ảnh\n",
    "my_path = 'C:/Users/Admin/Documents/GTA San Andreas User Files/SAMP/screens/sa-mp-000.png'"
   ]
  },
  {
   "cell_type": "code",
   "execution_count": 6,
   "id": "0c6269d1-333e-4d6b-b3d3-a1b2aa108811",
   "metadata": {},
   "outputs": [],
   "source": [
    "# Đọc ảnh\n",
    "im = Image.open(my_path)\n",
    "\n",
    "#Chuyen doi backend\n",
    "plt.switch_backend(\"tkagg\")\n",
    "\n",
    "#hien anh\n",
    "plt.imshow(im)\n",
    "plt.title(\"Click on the image to select points\")\n",
    "\n",
    "#Su dung ham ginput() de chon diem tren anh\n",
    "points = plt.ginput(5)\n",
    "\n",
    "#hien thi\n",
    "plt.show()"
   ]
  },
  {
   "cell_type": "code",
   "execution_count": 7,
   "id": "788d056a-5a5f-4c61-9daf-b41352af5928",
   "metadata": {},
   "outputs": [
    {
     "name": "stdout",
     "output_type": "stream",
     "text": [
      "[(665.9758064516129, 423.70887096774186), (1087.342741935484, 382.3983870967742), (360.27822580645164, 525.6080645161289)]\n"
     ]
    }
   ],
   "source": [
    "print(points)"
   ]
  },
  {
   "cell_type": "code",
   "execution_count": 8,
   "id": "8cddbfaf-1e79-47eb-b8b6-11ffd6d88eb5",
   "metadata": {},
   "outputs": [],
   "source": [
    "plt.close()\n",
    "\n",
    "#ve lai\n",
    "plt.imshow(im)\n",
    "for point in points:\n",
    "    x,y = point\n",
    "    plt.plot(x,y,'r*')\n",
    "plt.show()"
   ]
  },
  {
   "cell_type": "code",
   "execution_count": null,
   "id": "0c4c965d-20a3-4e50-9d3b-4939efe3a669",
   "metadata": {},
   "outputs": [],
   "source": []
  }
 ],
 "metadata": {
  "kernelspec": {
   "display_name": "Python 3 (ipykernel)",
   "language": "python",
   "name": "python3"
  },
  "language_info": {
   "codemirror_mode": {
    "name": "ipython",
    "version": 3
   },
   "file_extension": ".py",
   "mimetype": "text/x-python",
   "name": "python",
   "nbconvert_exporter": "python",
   "pygments_lexer": "ipython3",
   "version": "3.12.4"
  }
 },
 "nbformat": 4,
 "nbformat_minor": 5
}
