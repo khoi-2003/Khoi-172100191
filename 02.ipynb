{
 "cells": [
  {
   "cell_type": "code",
   "execution_count": 3,
   "id": "6ed290d6-6b95-4e22-892b-aaa125e6ee6a",
   "metadata": {},
   "outputs": [],
   "source": [
    "# Import lớp Image\n",
    "from PIL import Image\n",
    "from imgtools import *\n",
    "from IPython.display import display # to display images"
   ]
  },
  {
   "cell_type": "code",
   "execution_count": 4,
   "id": "acc6e9c6-0838-4146-928a-08f5dbe4abe8",
   "metadata": {},
   "outputs": [],
   "source": [
    "my_directory = 'C:/Users/Admin/Documents/GTA San Andreas User Files/SAMP/screens'"
   ]
  },
  {
   "cell_type": "code",
   "execution_count": 1,
   "id": "fff8f63e-de6e-4524-9d38-1d9e92273195",
   "metadata": {},
   "outputs": [
    {
     "ename": "NameError",
     "evalue": "name 'get_image_list' is not defined",
     "output_type": "error",
     "traceback": [
      "\u001b[1;31m---------------------------------------------------------------------------\u001b[0m",
      "\u001b[1;31mNameError\u001b[0m                                 Traceback (most recent call last)",
      "Cell \u001b[1;32mIn[1], line 2\u001b[0m\n\u001b[0;32m      1\u001b[0m \u001b[38;5;66;03m# Đọc nhiều ảnh\u001b[39;00m\n\u001b[1;32m----> 2\u001b[0m imgs \u001b[38;5;241m=\u001b[39m  get_image_list(my_directory)\n",
      "\u001b[1;31mNameError\u001b[0m: name 'get_image_list' is not defined"
     ]
    }
   ],
   "source": [
    "# Đọc nhiều ảnh\n",
    "imgs =  get_image_list(my_directory)"
   ]
  },
  {
   "cell_type": "code",
   "execution_count": null,
   "id": "e1e0538c-8dcf-4db8-a65e-184b2bde2bc2",
   "metadata": {},
   "outputs": [],
   "source": [
    "# Hiển thị toàn bộ ảnh bằng hàm display\n",
    "for img in imgs:\n",
    "    print(img.size)\n",
    "    display(img)"
   ]
  }
 ],
 "metadata": {
  "kernelspec": {
   "display_name": "Python 3 (ipykernel)",
   "language": "python",
   "name": "python3"
  },
  "language_info": {
   "codemirror_mode": {
    "name": "ipython",
    "version": 3
   },
   "file_extension": ".py",
   "mimetype": "text/x-python",
   "name": "python",
   "nbconvert_exporter": "python",
   "pygments_lexer": "ipython3",
   "version": "3.12.4"
  }
 },
 "nbformat": 4,
 "nbformat_minor": 5
}
